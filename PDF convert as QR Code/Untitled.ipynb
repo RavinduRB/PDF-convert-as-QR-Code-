{
 "cells": [
  {
   "cell_type": "code",
   "execution_count": 1,
   "id": "cee53f96-c4c4-4bb6-8d8e-b7cd25aa3076",
   "metadata": {},
   "outputs": [
    {
     "name": "stdout",
     "output_type": "stream",
     "text": [
      "Requirement already satisfied: PyPDF2 in c:\\users\\asus\\anaconda3\\lib\\site-packages (3.0.1)\n",
      "Note: you may need to restart the kernel to use updated packages.\n"
     ]
    }
   ],
   "source": [
    "pip install PyPDF2"
   ]
  },
  {
   "cell_type": "code",
   "execution_count": 2,
   "id": "0345ff1e-73ef-4164-baef-13f8d09e0f72",
   "metadata": {},
   "outputs": [
    {
     "name": "stdout",
     "output_type": "stream",
     "text": [
      "Requirement already satisfied: qrcode[pil] in c:\\users\\asus\\anaconda3\\lib\\site-packages (7.4.2)\n",
      "Requirement already satisfied: typing-extensions in c:\\users\\asus\\anaconda3\\lib\\site-packages (from qrcode[pil]) (4.9.0)\n",
      "Requirement already satisfied: pypng in c:\\users\\asus\\anaconda3\\lib\\site-packages (from qrcode[pil]) (0.20220715.0)\n",
      "Requirement already satisfied: colorama in c:\\users\\asus\\anaconda3\\lib\\site-packages (from qrcode[pil]) (0.4.6)\n",
      "Requirement already satisfied: pillow>=9.1.0 in c:\\users\\asus\\anaconda3\\lib\\site-packages (from qrcode[pil]) (10.2.0)\n",
      "Note: you may need to restart the kernel to use updated packages.\n"
     ]
    }
   ],
   "source": [
    "pip install qrcode[pil]"
   ]
  },
  {
   "cell_type": "code",
   "execution_count": 3,
   "id": "ed0a8e26-d55a-4cc0-8899-e0ee09415340",
   "metadata": {},
   "outputs": [
    {
     "name": "stdout",
     "output_type": "stream",
     "text": [
      "Requirement already satisfied: pillow in c:\\users\\asus\\anaconda3\\lib\\site-packages (10.2.0)\n",
      "Note: you may need to restart the kernel to use updated packages.\n"
     ]
    }
   ],
   "source": [
    "pip install pillow"
   ]
  },
  {
   "cell_type": "code",
   "execution_count": null,
   "id": "6dd88848-b0b0-47a6-bb7e-3dab5f7de573",
   "metadata": {},
   "outputs": [],
   "source": [
    "import os\n",
    "import tempfile\n",
    "import tkinter as tk\n",
    "from tkinter import filedialog, messagebox\n",
    "from PyPDF2 import PdfFileReader\n",
    "import qrcode\n",
    "from PIL import Image, ImageTk\n",
    "import zipfile\n",
    "\n",
    "class PDFtoQRCodeApp:\n",
    "    def __init__(self, root):\n",
    "        self.root = root\n",
    "        self.root.title(\"PDF to QR Code Converter\")\n",
    "        self.create_widgets()\n",
    "        \n",
    "    def create_widgets(self):\n",
    "        # File upload section\n",
    "        self.upload_button = tk.Button(self.root, text=\"Upload PDF\", command=self.upload_file)\n",
    "        self.upload_button.pack(pady=10)\n",
    "\n",
    "        # QR code customization options\n",
    "        self.size_label = tk.Label(self.root, text=\"QR Code Size:\")\n",
    "        self.size_label.pack()\n",
    "        self.size_entry = tk.Entry(self.root)\n",
    "        self.size_entry.pack()\n",
    "\n",
    "        self.error_correction_label = tk.Label(self.root, text=\"Error Correction Level (L, M, Q, H):\")\n",
    "        self.error_correction_label.pack()\n",
    "        self.error_correction_entry = tk.Entry(self.root)\n",
    "        self.error_correction_entry.pack()\n",
    "\n",
    "        # QR code preview section\n",
    "        self.preview_label = tk.Label(self.root, text=\"QR Code Preview:\")\n",
    "        self.preview_label.pack()\n",
    "        self.preview_canvas = tk.Canvas(self.root, width=300, height=300)\n",
    "        self.preview_canvas.pack(pady=10)\n",
    "\n",
    "        # Download button\n",
    "        self.download_button = tk.Button(self.root, text=\"Download QR Code(s)\", command=self.download_qrcodes)\n",
    "        self.download_button.pack(pady=10)\n",
    "\n",
    "    def upload_file(self):\n",
    "        self.filepath = filedialog.askopenfilename(filetypes=[(\"PDF files\", \"*.pdf\")])\n",
    "        if self.filepath:\n",
    "            self.generate_qrcodes()\n",
    "\n",
    "    def generate_qrcodes(self):\n",
    "        try:\n",
    "            # Read PDF\n",
    "            pdf_reader = PdfFileReader(self.filepath)\n",
    "            self.qrcodes = []\n",
    "\n",
    "            for page_num in range(pdf_reader.numPages):\n",
    "                page = pdf_reader.getPage(page_num)\n",
    "                text = page.extractText()\n",
    "\n",
    "                # Generate QR code\n",
    "                size = int(self.size_entry.get() or 300)\n",
    "                error_correction = self.error_correction_entry.get().upper() or 'M'\n",
    "                ec_levels = {\n",
    "                    'L': qrcode.constants.ERROR_CORRECT_L,\n",
    "                    'M': qrcode.constants.ERROR_CORRECT_M,\n",
    "                    'Q': qrcode.constants.ERROR_CORRECT_Q,\n",
    "                    'H': qrcode.constants.ERROR_CORRECT_H\n",
    "                }\n",
    "                ec_level = ec_levels.get(error_correction, qrcode.constants.ERROR_CORRECT_M)\n",
    "\n",
    "                qr = qrcode.QRCode(\n",
    "                    version=1,\n",
    "                    error_correction=ec_level,\n",
    "                    box_size=10,\n",
    "                    border=4,\n",
    "                )\n",
    "                qr.add_data(text)\n",
    "                qr.make(fit=True)\n",
    "\n",
    "                img = qr.make_image(fill='black', back_color='white')\n",
    "                self.qrcodes.append(img)\n",
    "\n",
    "            self.show_preview()\n",
    "        except Exception as e:\n",
    "            messagebox.showerror(\"Error\", str(e))\n",
    "\n",
    "    def show_preview(self):\n",
    "        if self.qrcodes:\n",
    "            qr_img = self.qrcodes[0].resize((300, 300), Image.ANTIALIAS)\n",
    "            self.qr_photo = ImageTk.PhotoImage(qr_img)\n",
    "            self.preview_canvas.create_image(0, 0, anchor=tk.NW, image=self.qr_photo)\n",
    "\n",
    "    def download_qrcodes(self):\n",
    "        if not self.qrcodes:\n",
    "            messagebox.showwarning(\"No QR Codes\", \"No QR codes generated to download.\")\n",
    "            return\n",
    "\n",
    "        save_path = filedialog.askdirectory()\n",
    "        if not save_path:\n",
    "            return\n",
    "\n",
    "        try:\n",
    "            temp_dir = tempfile.mkdtemp()\n",
    "            zip_path = os.path.join(temp_dir, \"qrcodes.zip\")\n",
    "            with zipfile.ZipFile(zip_path, 'w') as zipf:\n",
    "                for i, qr_img in enumerate(self.qrcodes):\n",
    "                    img_path = os.path.join(temp_dir, f'page_{i+1}.png')\n",
    "                    qr_img.save(img_path)\n",
    "                    zipf.write(img_path, f'page_{i+1}.png')\n",
    "\n",
    "            final_zip_path = os.path.join(save_path, \"qrcodes.zip\")\n",
    "            os.rename(zip_path, final_zip_path)\n",
    "            messagebox.showinfo(\"Download Complete\", f\"QR Codes downloaded successfully to {final_zip_path}\")\n",
    "        except Exception as e:\n",
    "            messagebox.showerror(\"Error\", str(e))\n",
    "\n",
    "if __name__ == \"__main__\":\n",
    "    root = tk.Tk()\n",
    "    app = PDFtoQRCodeApp(root)\n",
    "    root.mainloop()\n"
   ]
  }
 ],
 "metadata": {
  "kernelspec": {
   "display_name": "Python 3 (ipykernel)",
   "language": "python",
   "name": "python3"
  },
  "language_info": {
   "codemirror_mode": {
    "name": "ipython",
    "version": 3
   },
   "file_extension": ".py",
   "mimetype": "text/x-python",
   "name": "python",
   "nbconvert_exporter": "python",
   "pygments_lexer": "ipython3",
   "version": "3.11.7"
  }
 },
 "nbformat": 4,
 "nbformat_minor": 5
}
